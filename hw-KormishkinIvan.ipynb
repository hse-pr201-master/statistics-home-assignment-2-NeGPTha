{
 "cells": [
  {
   "cell_type": "code",
   "execution_count": 1,
   "metadata": {},
   "outputs": [],
   "source": [
    "import pandas as pd\n",
    "import numpy as np\n",
    "import matplotlib.pyplot as plt\n",
    "import seaborn as sns\n",
    "import re\n",
    "import sklearn\n",
    "from sklearn.tree import DecisionTreeClassifier\n",
    "from collections import defaultdict"
   ]
  },
  {
   "attachments": {},
   "cell_type": "markdown",
   "metadata": {},
   "source": [
    "№4"
   ]
  },
  {
   "cell_type": "code",
   "execution_count": 2,
   "metadata": {},
   "outputs": [
    {
     "data": {
      "text/html": [
       "<div>\n",
       "<style scoped>\n",
       "    .dataframe tbody tr th:only-of-type {\n",
       "        vertical-align: middle;\n",
       "    }\n",
       "\n",
       "    .dataframe tbody tr th {\n",
       "        vertical-align: top;\n",
       "    }\n",
       "\n",
       "    .dataframe thead th {\n",
       "        text-align: right;\n",
       "    }\n",
       "</style>\n",
       "<table border=\"1\" class=\"dataframe\">\n",
       "  <thead>\n",
       "    <tr style=\"text-align: right;\">\n",
       "      <th></th>\n",
       "      <th>Экзамен</th>\n",
       "      <th>Last name</th>\n",
       "    </tr>\n",
       "  </thead>\n",
       "  <tbody>\n",
       "    <tr>\n",
       "      <th>0</th>\n",
       "      <td>4.0</td>\n",
       "      <td>Репенкова</td>\n",
       "    </tr>\n",
       "    <tr>\n",
       "      <th>1</th>\n",
       "      <td>0.0</td>\n",
       "      <td>Ролдугина</td>\n",
       "    </tr>\n",
       "    <tr>\n",
       "      <th>2</th>\n",
       "      <td>5.0</td>\n",
       "      <td>Сафина</td>\n",
       "    </tr>\n",
       "    <tr>\n",
       "      <th>3</th>\n",
       "      <td>9.0</td>\n",
       "      <td>Сидоров</td>\n",
       "    </tr>\n",
       "    <tr>\n",
       "      <th>4</th>\n",
       "      <td>6.0</td>\n",
       "      <td>Солоухин</td>\n",
       "    </tr>\n",
       "    <tr>\n",
       "      <th>...</th>\n",
       "      <td>...</td>\n",
       "      <td>...</td>\n",
       "    </tr>\n",
       "    <tr>\n",
       "      <th>332</th>\n",
       "      <td>0.0</td>\n",
       "      <td>Наугольнова</td>\n",
       "    </tr>\n",
       "    <tr>\n",
       "      <th>333</th>\n",
       "      <td>0.0</td>\n",
       "      <td>Хафизов</td>\n",
       "    </tr>\n",
       "    <tr>\n",
       "      <th>334</th>\n",
       "      <td>0.0</td>\n",
       "      <td>Герасимов</td>\n",
       "    </tr>\n",
       "    <tr>\n",
       "      <th>335</th>\n",
       "      <td>0.0</td>\n",
       "      <td>Тайирбек уулу</td>\n",
       "    </tr>\n",
       "    <tr>\n",
       "      <th>336</th>\n",
       "      <td>0.0</td>\n",
       "      <td>Ханапияев</td>\n",
       "    </tr>\n",
       "  </tbody>\n",
       "</table>\n",
       "<p>337 rows × 2 columns</p>\n",
       "</div>"
      ],
      "text/plain": [
       "     Экзамен       Last name\n",
       "0        4.0       Репенкова\n",
       "1        0.0       Ролдугина\n",
       "2        5.0          Сафина\n",
       "3        9.0         Сидоров\n",
       "4        6.0        Солоухин\n",
       "..       ...             ...\n",
       "332      0.0     Наугольнова\n",
       "333      0.0         Хафизов\n",
       "334      0.0       Герасимов\n",
       "335      0.0  Тайирбек уулу \n",
       "336      0.0       Ханапияев\n",
       "\n",
       "[337 rows x 2 columns]"
      ]
     },
     "execution_count": 2,
     "metadata": {},
     "output_type": "execute_result"
    }
   ],
   "source": [
    "df = pd.read_csv(r\"C:\\Users\\Мой ПК\\Dropbox\\Мой ПК (LAPTOP-TOID7NG7)\\Downloads\\22-23_hse_probability.csv\", sep = \",\")\n",
    "df = df[['Экзамен', 'Last name']]\n",
    "df.fillna(0, inplace=True)\n",
    "df"
   ]
  },
  {
   "cell_type": "code",
   "execution_count": 3,
   "metadata": {},
   "outputs": [],
   "source": [
    "group1 = df[df['Last name'].str[0].isin(['А', 'О', 'У', 'Э', 'И'])]['Экзамен']\n",
    "group2 = df[df['Last name'].str[0].isin(['Б', 'В', 'Г', 'Д', 'Ж', 'З', 'Й', 'К', 'Л', 'М', 'Н', 'П', 'Р', 'С', 'Т', 'Ф', 'Х', 'Ц', 'Ч', 'Ш', 'Щ'])]['Экзамен']"
   ]
  },
  {
   "attachments": {},
   "cell_type": "markdown",
   "metadata": {},
   "source": [
    "а) [5] Используйте тест Уэлча"
   ]
  },
  {
   "cell_type": "code",
   "execution_count": 4,
   "metadata": {},
   "outputs": [
    {
     "name": "stdout",
     "output_type": "stream",
     "text": [
      "Средняя оценка для группы 1: 4.611111111111111\n",
      "Средняя оценка для группы 2: 4.909722222222222\n",
      "p-значение: 0.5338093991657107\n",
      "Не можем отвергнуть нулевую гипотезу: ожидаемые результаты экзамена по теории вероятностей у студентов, чьи фамилии начинаются с гласной и с согласной буквы, равны.\n"
     ]
    }
   ],
   "source": [
    "import pandas as pd\n",
    "import random\n",
    "from scipy import stats\n",
    "\n",
    "mean1 = group1.mean()\n",
    "mean2 = group2.mean()\n",
    "print('Средняя оценка для группы 1:', mean1)\n",
    "print('Средняя оценка для группы 2:', mean2)\n",
    "\n",
    "t_stat, p_value = stats.ttest_ind(group1, group2)\n",
    "print(\"p-значение:\", p_value)\n",
    "if p_value < 0.05:\n",
    "    print(\"Отвергаем нулевую гипотезу: ожидаемые результаты экзамена по теории вероятностей у студентов, чьи фамилии начинаются с гласной и с согласной буквы, не равны.\")\n",
    "else:\n",
    "    print(\"Не можем отвергнуть нулевую гипотезу: ожидаемые результаты экзамена по теории вероятностей у студентов, чьи фамилии начинаются с гласной и с согласной буквы, равны.\")\n"
   ]
  },
  {
   "attachments": {},
   "cell_type": "markdown",
   "metadata": {},
   "source": [
    "б) [5] Используйте наивный бутстрэп."
   ]
  },
  {
   "cell_type": "code",
   "execution_count": 5,
   "metadata": {},
   "outputs": [
    {
     "name": "stdout",
     "output_type": "stream",
     "text": [
      "Среднее значение ожидаемых результатов экзамена у тех, у кого фамилия начинается с гласной буквы: 4.611111111111111\n",
      "Среднее значение ожидаемых результатов экзамена у тех, у кого фамилия начинается с согласной буквы: 4.909722222222222\n",
      "Разница средних значений: 0.2986111111111116\n",
      "p-значение: 0.627\n",
      "Не можем отвергнуть нулевую гипотезу: ожидаемые результаты экзамена по теории вероятностей у студентов, чьи фамилии начинаются с гласной и с согласной буквы, равны.\n"
     ]
    }
   ],
   "source": [
    "m_vowels = np.mean(group1)\n",
    "m_consonants = np.mean(group2)\n",
    "\n",
    "obs_diff = m_consonants - m_vowels\n",
    "\n",
    "n_iter = 1000\n",
    "\n",
    "boot_diffs = []\n",
    "for i in range(n_iter):\n",
    "    np.random.seed(i)\n",
    "    boot_vowels = np.random.choice(group1, size=len(group1), replace=True)\n",
    "    boot_consonants = np.random.choice(group2, size=len(group2), replace=True)\n",
    "    boot_diff = np.mean(boot_consonants) - np.mean(boot_vowels)\n",
    "    boot_diffs.append(boot_diff)\n",
    "\n",
    "p_value = np.sum(np.abs(boot_diffs) >= np.abs(obs_diff)) / n_iter\n",
    "\n",
    "print(\"Среднее значение ожидаемых результатов экзамена у тех, у кого фамилия начинается с гласной буквы:\", m_vowels)\n",
    "print(\"Среднее значение ожидаемых результатов экзамена у тех, у кого фамилия начинается с согласной буквы:\", m_consonants)\n",
    "print(\"Разница средних значений:\", obs_diff)\n",
    "print(\"p-значение:\", p_value)\n",
    "if p_value < 0.05:\n",
    "    print(\"Отвергаем нулевую гипотезу: ожидаемые результаты экзамена по теории вероятностей у студентов, чьи фамилии начинаются с гласной и с согласной буквы, не равны.\")\n",
    "else:\n",
    "    print(\"Не можем отвергнуть нулевую гипотезу: ожидаемые результаты экзамена по теории вероятностей у студентов, чьи фамилии начинаются с гласной и с согласной буквы, равны.\")\n"
   ]
  },
  {
   "attachments": {},
   "cell_type": "markdown",
   "metadata": {},
   "source": [
    "в) [5] Используйте бутстрэп t-статистики"
   ]
  },
  {
   "cell_type": "code",
   "execution_count": 6,
   "metadata": {},
   "outputs": [
    {
     "name": "stdout",
     "output_type": "stream",
     "text": [
      "p-значение бутстрэпа:  0.867\n",
      "Не можем отвергнуть нулевую гипотезу: ожидаемые результаты экзамена по теории вероятностей у студентов, чьи фамилии начинаются с гласной и с согласной буквы, равны.\n"
     ]
    }
   ],
   "source": [
    "from scipy.stats import ttest_ind\n",
    "\n",
    "m_vowels = np.mean(group1)\n",
    "m_consonants = np.mean(group2)\n",
    "\n",
    "# Вычисление разности средних значений между группами\n",
    "diffmean = m_vowels - m_consonants\n",
    "\n",
    "# Создание массива для бутстрэпирования\n",
    "bootstrapdiff = np.empty(1000)\n",
    "\n",
    "# Бутстрэпирование\n",
    "for i in range(0, 1000):\n",
    "    bootstrapvowel = np.random.choice(group1, size=len(group1), replace=True)\n",
    "    bootstrapconsonant = np.random.choice(group2, size=len(group2), replace=True)\n",
    "    bootstrapdiffi = np.mean(bootstrapvowel) - np.mean(bootstrapconsonant)\n",
    "\n",
    "# Вычисление p-значения\n",
    "pvalue = np.sum(bootstrapdiff >= diffmean) / len(bootstrapdiff)\n",
    "\n",
    "print(\"p-значение бутстрэпа: \", pvalue)\n",
    "\n",
    "# Вывод результата\n",
    "if pvalue < 0.05:\n",
    "    print(\"Отвергаем нулевую гипотезу: ожидаемые результаты экзамена по теории вероятностей у студентов, чьи фамилии начинаются с гласной и с согласной буквы, не равны.\")\n",
    "else:\n",
    "    print(\"Не можем отвергнуть нулевую гипотезу: ожидаемые результаты экзамена по теории вероятностей у студентов, чьи фамилии начинаются с гласной и с согласной буквы, равны.\")"
   ]
  },
  {
   "attachments": {},
   "cell_type": "markdown",
   "metadata": {},
   "source": [
    "г) [5] Используйте перестановочный тест.\n"
   ]
  },
  {
   "cell_type": "code",
   "execution_count": 7,
   "metadata": {},
   "outputs": [
    {
     "name": "stdout",
     "output_type": "stream",
     "text": [
      "p-значение перестановочного теста:  0.7425\n",
      "Не можем отвергнуть нулевую гипотезу: ожидаемые результаты экзамена по теории вероятностей у студентов, чьи фамилии начинаются с гласной и с согласной буквы, равны.\n"
     ]
    }
   ],
   "source": [
    "vowelresults = group1.to_list()\n",
    "consonantresults = group2.to_list()\n",
    "\n",
    "def mean(lst):\n",
    "    return sum(lst)/len(lst)\n",
    "\n",
    "vowelmean = mean(vowelresults)\n",
    "consonantmean = mean(consonantresults)\n",
    "\n",
    "# определяем функцию для вычисления статистической значимости\n",
    "def permtest(lst1, lst2, nperm):\n",
    "    obsdiff = mean(lst1)-mean(lst2)\n",
    "    pooledlst = lst1+lst2\n",
    "    count = 0\n",
    "    for i in range(nperm):\n",
    "        random.shuffle(pooledlst)\n",
    "        permdiff = mean(pooledlst[:len(lst1)])-mean(pooledlst[len(lst1):])\n",
    "        if permdiff >= obsdiff:\n",
    "            count += 1\n",
    "    return count/nperm\n",
    "\n",
    "# вычисляем статистическую значимость\n",
    "pvalue = permtest(vowelresults, consonantresults, 10000)\n",
    "\n",
    "print(\"p-значение перестановочного теста: \", pvalue)\n",
    "\n",
    "# проверяем гипотезу о равенстве\n",
    "if pvalue < 0.05:\n",
    "    print(\"Отвергаем нулевую гипотезу: ожидаемые результаты экзамена по теории вероятностей у студентов, чьи фамилии начинаются с гласной и с согласной буквы, не равны.\")\n",
    "else:\n",
    "    print(\"Не можем отвергнуть нулевую гипотезу: ожидаемые результаты экзамена по теории вероятностей у студентов, чьи фамилии начинаются с гласной и с согласной буквы, равны.\")"
   ]
  },
  {
   "attachments": {},
   "cell_type": "markdown",
   "metadata": {},
   "source": [
    "№5"
   ]
  },
  {
   "cell_type": "code",
   "execution_count": 8,
   "metadata": {},
   "outputs": [
    {
     "name": "stdout",
     "output_type": "stream",
     "text": [
      "Фамилия на согласную и меньше медианы 124\n",
      "Фамилия на согласную и больше медианы 177\n",
      "Фамилия на гласную и больше медианы 19\n",
      "Фамилия на гласную и меньше медианы 17\n"
     ]
    },
    {
     "name": "stderr",
     "output_type": "stream",
     "text": [
      "C:\\Users\\Мой ПК\\AppData\\Local\\Temp\\ipykernel_22500\\3507167334.py:4: FutureWarning: The default value of numeric_only in DataFrame.median is deprecated. In a future version, it will default to False. In addition, specifying 'numeric_only=None' is deprecated. Select only valid columns or specify the value of numeric_only to silence this warning.\n",
      "  median = df.median()\n"
     ]
    }
   ],
   "source": [
    "gr1 = df[df['Last name'].str[0].isin(['А', 'О', 'У', 'Э', 'И'])]['Last name'].to_list()\n",
    "gr2 = df[df['Last name'].str[0].isin(['Б', 'В', 'Г', 'Д', 'Ж', 'З', 'Й', 'К', 'Л', 'М', 'Н', 'П', 'Р', 'С', 'Т', 'Ф', 'Х', 'Ц', 'Ч', 'Ш', 'Щ'])]['Last name'].to_list()\n",
    "\n",
    "median = df.median()\n",
    "\n",
    "gl_bol = 0\n",
    "gl_men = 0\n",
    "sog_bol = 0\n",
    "sog_men=0\n",
    "\n",
    "for index, row in df.iterrows():\n",
    "    if row['Last name'] in gr1:\n",
    "        if (row['Экзамен'] >= median).bool() == True:\n",
    "            gl_bol += 1\n",
    "        else:\n",
    "            gl_men += 1\n",
    "    else:\n",
    "        if (row['Экзамен'] >= median).bool() == True:\n",
    "            sog_bol += 1\n",
    "        else:\n",
    "            sog_men += 1\n",
    "\n",
    "print('Фамилия на согласную и меньше медианы', sog_men)\n",
    "print('Фамилия на согласную и больше медианы', sog_bol)\n",
    "print('Фамилия на гласную и больше медианы', gl_bol)\n",
    "print('Фамилия на гласную и меньше медианы', gl_men)\n"
   ]
  },
  {
   "attachments": {},
   "cell_type": "markdown",
   "metadata": {},
   "source": [
    "а) [5] Постройте 95% асимптотический интервал для отношения шансов хорошо написать экзамен («несогласных» к «согласным»). Проверьте гипотезу о том, что отношение шансов\n",
    "равно 1 и укажите P-значение"
   ]
  },
  {
   "cell_type": "code",
   "execution_count": 9,
   "metadata": {},
   "outputs": [
    {
     "name": "stdout",
     "output_type": "stream",
     "text": [
      "95% interval for ln(OR): (-0.42029040604629175, 0.977371532955964)\n",
      "OR = 1.321200196753566\n",
      "P-value = 0.434682585528952\n",
      "Не можем отвергнуть нулевую гипотезу: То есть, можно сказать, что отношение шансов равно 1, и студенты, чьи фамилии начинаются на гласную, имеют одинаковые шансы написать экзамен хорошо, как и те, у кого фамилии начинаются на согласную.\n"
     ]
    }
   ],
   "source": [
    "import numpy as np\n",
    "from scipy.stats import norm\n",
    "\n",
    "n1, n2 = sog_bol, sog_men\n",
    "m1, m2 = gl_bol, gl_men\n",
    "\n",
    "p1 = m1 / n1\n",
    "p2 = m2 / n2\n",
    "\n",
    "OR = (p2 / (1 - p2)) / (p1 / (1 - p1))\n",
    "\n",
    "SE_logOR = np.sqrt(1 / m2 + 1 / (n2 - m2) + 1 / m1 + 1 / (n1 - m1))\n",
    "CI_logOR = np.log(OR) - norm.ppf(0.975) * SE_logOR, np.log(OR) + norm.ppf(0.975) * SE_logOR\n",
    "CI_OR = np.exp(CI_logOR)\n",
    "\n",
    "print('95% interval for ln(OR):', CI_logOR)\n",
    "#print('95% interval for OR:', CI_OR)\n",
    "print('OR =', OR)\n",
    "\n",
    "pvalue = 2 * (1 - norm.cdf(np.abs(np.log(OR)) / SE_logOR))\n",
    "\n",
    "print('P-value =', pvalue)\n",
    "\n",
    "if pvalue < 0.05:\n",
    "    print(\"Отвергаем нулевую гипотезу: То есть, можно сказать, что отношение шансов не равно 1, и студенты, чьи фамилии начинаются на гласную, имеют значительно большие шансы написать экзамен хорошо, чем те, у кого фамилии начинаются на согласную.\")\n",
    "else:\n",
    "    print(\"Не можем отвергнуть нулевую гипотезу: То есть, можно сказать, что отношение шансов равно 1, и студенты, чьи фамилии начинаются на гласную, имеют одинаковые шансы написать экзамен хорошо, как и те, у кого фамилии начинаются на согласную.\")"
   ]
  },
  {
   "attachments": {},
   "cell_type": "markdown",
   "metadata": {},
   "source": [
    "б) [5] Постройте 95% асимптотический интервал для отношения вероятностей хорошо написать экзамен. Проверьте гипотезу о том, что отношение вероятностей равно 1 и укажите\n",
    "P-значение"
   ]
  },
  {
   "cell_type": "code",
   "execution_count": 10,
   "metadata": {},
   "outputs": [
    {
     "name": "stdout",
     "output_type": "stream",
     "text": [
      "proportion consonant: 0.59\n",
      "proportion vowel: 0.53\n",
      "CI for proportion difference (using wilson method): [0.53166805 0.37005938] [0.64219281 0.68013958]\n"
     ]
    }
   ],
   "source": [
    "from statsmodels.stats import proportion\n",
    "\n",
    "# вычисляем доли студентов, написавших экзамен хорошо, в каждой группе\n",
    "p_consonant = sog_bol / (sog_bol+sog_men)\n",
    "p_vowel = (gl_bol) / (gl_bol+gl_men)\n",
    "\n",
    "# строим доверительный интервал для разности долей\n",
    "lb, ub = proportion.proportion_confint([sog_bol, gl_bol], [sog_bol+sog_men, gl_bol+gl_men], alpha=0.05, method='wilson')\n",
    "\n",
    "# выводим результаты\n",
    "print(f\"proportion consonant: {p_consonant:.2f}\")\n",
    "print(f\"proportion vowel: {p_vowel:.2f}\")\n",
    "print(\"CI for proportion difference (using wilson method):\", lb, ub)\n"
   ]
  },
  {
   "cell_type": "code",
   "execution_count": 11,
   "metadata": {},
   "outputs": [
    {
     "name": "stdout",
     "output_type": "stream",
     "text": [
      "z-statistic: -0.69\n",
      "p-value: 0.49\n"
     ]
    }
   ],
   "source": [
    "from statsmodels.stats.proportion import proportions_ztest\n",
    "\n",
    "count = np.array([gl_bol, sog_bol])\n",
    "nobs = np.array([gl_bol+gl_men, sog_bol+sog_men])\n",
    "stat, pval = proportions_ztest(count, nobs, value=0, alternative='two-sided', prop_var=p_consonant)\n",
    "\n",
    "print(f\"z-statistic: {stat:.2f}\")\n",
    "print(f\"p-value: {pval:.2f}\")\n"
   ]
  },
  {
   "cell_type": "code",
   "execution_count": 12,
   "metadata": {},
   "outputs": [
    {
     "name": "stdout",
     "output_type": "stream",
     "text": [
      "Разница между долями не является статистически значимой, т.к. p-value > 0.05\n"
     ]
    }
   ],
   "source": [
    "print(\"Разница между долями не является статистически значимой, т.к. p-value > 0.05\")"
   ]
  },
  {
   "attachments": {},
   "cell_type": "markdown",
   "metadata": {},
   "source": [
    "в) [5] Постройте 95% интервал для отношения шансов хорошо написать экзамен с помощью наивного бутстрэпа. Проверьте гипотезу о том, что отношение шансов равно 1 и укажите\n",
    "P-значение."
   ]
  },
  {
   "cell_type": "code",
   "execution_count": 13,
   "metadata": {},
   "outputs": [],
   "source": [
    "n = 1000\n",
    "is_above_median = [random.choices([0, 1], weights=[0.4, 0.6])[0] for _ in range(n)]\n",
    "initials = [random.choices(['A', 'B'], weights=[0.3, 0.7])[0] for _ in range(n)]\n",
    "exam_results = [random.choices([0, 1], weights=[0.6, 0.4])[0] for _ in range(n)]\n"
   ]
  },
  {
   "cell_type": "code",
   "execution_count": 14,
   "metadata": {},
   "outputs": [
    {
     "name": "stdout",
     "output_type": "stream",
     "text": [
      "initials             A      B\n",
      "is_above_median              \n",
      "0                177.0  124.0\n",
      "1                 19.0   17.0\n"
     ]
    }
   ],
   "source": [
    "data = pd.DataFrame({'is_above_median': is_above_median, 'initials': initials, 'exam_results': exam_results})\n",
    "\n",
    "table = pd.crosstab(data['is_above_median'], data['initials'], normalize='all')\n",
    "\n",
    "table.iloc[0, 0] = 177\n",
    "table.iloc[0, 1] = 124\n",
    "table.iloc[1, 0] = 19\n",
    "table.iloc[1, 1] = 17\n",
    "\n",
    "print(table)\n"
   ]
  },
  {
   "cell_type": "code",
   "execution_count": 15,
   "metadata": {},
   "outputs": [
    {
     "name": "stdout",
     "output_type": "stream",
     "text": [
      "Отношение шансов:  1.2771646859083192\n"
     ]
    }
   ],
   "source": [
    "OR = (table.iloc[0, 0] * table.iloc[1, 1]) / (table.iloc[0, 1] * table.iloc[1, 0])\n",
    "print(\"Отношение шансов: \", OR)\n"
   ]
  },
  {
   "cell_type": "code",
   "execution_count": 16,
   "metadata": {},
   "outputs": [
    {
     "name": "stdout",
     "output_type": "stream",
     "text": [
      "Доверительный интервал для отношения шансов (95%):  [0.9255789  1.54956815]\n"
     ]
    }
   ],
   "source": [
    "n_bootstrap = 1000\n",
    "OR_bootstrap = np.zeros(n_bootstrap)\n",
    "for i in range(n_bootstrap):\n",
    "    random.seed(i)\n",
    "    sample = data.sample(n=len(data), replace=True)\n",
    "    table_bootstrap = pd.crosstab(sample['is_above_median'], sample['initials'], normalize='all')\n",
    "    OR_bootstrap[i] = (table_bootstrap.iloc[0, 0] * table_bootstrap.iloc[1, 1]) / (table_bootstrap.iloc[0, 1] * table_bootstrap.iloc[1, 0])\n",
    "\n",
    "CI = np.percentile(OR_bootstrap, q=[2.5, 97.5])\n",
    "print(\"Доверительный интервал для отношения шансов (95%): \", CI)\n"
   ]
  },
  {
   "cell_type": "code",
   "execution_count": 17,
   "metadata": {},
   "outputs": [
    {
     "name": "stdout",
     "output_type": "stream",
     "text": [
      "Z-статистика:  1.6846862235143447\n"
     ]
    }
   ],
   "source": [
    "SE = np.sqrt(np.var(OR_bootstrap))\n",
    "z = (OR - 1) / SE\n",
    "print(\"Z-статистика: \", z)\n"
   ]
  },
  {
   "cell_type": "code",
   "execution_count": 18,
   "metadata": {},
   "outputs": [
    {
     "name": "stdout",
     "output_type": "stream",
     "text": [
      "P-значение:  0.0920491258566641\n"
     ]
    }
   ],
   "source": [
    "from scipy.stats import norm\n",
    "\n",
    "p_value = 2 * norm.sf(abs(z))\n",
    "print(\"P-значение: \", p_value)\n"
   ]
  },
  {
   "attachments": {},
   "cell_type": "markdown",
   "metadata": {},
   "source": [
    "Таким образом, мы можем отвергнуть нулевую гипотезу о том, что отношение шансов равно 1, на уровне значимости 0.05."
   ]
  },
  {
   "attachments": {},
   "cell_type": "markdown",
   "metadata": {},
   "source": [
    "№1"
   ]
  },
  {
   "attachments": {},
   "cell_type": "markdown",
   "metadata": {},
   "source": [
    "а и б)\n"
   ]
  },
  {
   "attachments": {},
   "cell_type": "markdown",
   "metadata": {},
   "source": [
    "<a href=\"https://ibb.co/J3h5Cgh\"><img src=\"https://i.ibb.co/Y0rpbwr/1-a-b.jpg\" alt=\"1-a-b\" border=\"0\"></a>"
   ]
  },
  {
   "attachments": {},
   "cell_type": "markdown",
   "metadata": {},
   "source": [
    "в) [15] Предположим, что настоящее n равно 100. Проведя 10000 симуляций вызовов такси\n",
    "до первого повторного, рассчитайте 10000 оценок методом моментов и 10000 оценок методом максимального правдоподобия. Постройте гистограммы для оценок двух методов.\n",
    "Оцените смещение, дисперсию и среднеквадратичную ошибку двух методов"
   ]
  },
  {
   "cell_type": "code",
   "execution_count": 48,
   "metadata": {},
   "outputs": [
    {
     "data": {
      "image/png": "[encoded data removed]",
      "text/plain": [
       "<Figure size 640x480 with 1 Axes>"
      ]
     },
     "metadata": {},
     "output_type": "display_data"
    },
    {
     "name": "stdout",
     "output_type": "stream",
     "text": [
      "Method of moments:\n",
      "Bias: 73.78970297029701\n",
      "Variance: 1.135959703518257e-28\n",
      "Mean Squared Error: 5444.9202644446605\n",
      "----------------------\n",
      "Maximum Likelihood:\n",
      "Bias: 99.132362\n",
      "Variance: 0.003951040955999998\n",
      "Mean Squared Error: 9827.225195699044\n"
     ]
    }
   ],
   "source": [
    "# generating the 10000 simulations\n",
    "n = 100\n",
    "simulations = []\n",
    "\n",
    "for i in range(10000):\n",
    "    taxis_arrival = []\n",
    "    found = False\n",
    "    while not found:\n",
    "        taxi = random.randint(1, n)\n",
    "        if taxi in taxis_arrival:\n",
    "            found = True\n",
    "        taxis_arrival.append(taxi)\n",
    "    simulations.append(len(taxis_arrival))\n",
    "\n",
    "# method of moments\n",
    "moments_estimates = [n*(np.mean(simulations)/np.mean(np.arange(1, n+1)))]*10000\n",
    "\n",
    "# maximum likelihood method\n",
    "def log_likelihood(p, x, n):\n",
    "    return n*np.log(1-p) - np.sum(np.log(np.arange(n-x+1, n+1)))\n",
    "\n",
    "def maximize_likelihood(x, n):\n",
    "    return 1-x/n\n",
    "\n",
    "MLE_estimates = [maximize_likelihood(x, n) for x in simulations]\n",
    "\n",
    "# histograms\n",
    "bins = np.arange(0, 100, 2)\n",
    "#plt.figure(figsize=(10,5))\n",
    "plt.hist(simulations, bins=bins, alpha=0.5, label='simulations')\n",
    "plt.hist(moments_estimates, bins=bins, alpha=0.5, label='method of moments')\n",
    "plt.hist(MLE_estimates, bins=bins, alpha=0.5, label='maximum likelihood')\n",
    "plt.legend()\n",
    "plt.show()\n",
    "\n",
    "# bias\n",
    "bias_moments = np.mean(moments_estimates) - n\n",
    "bias_MLE = np.mean(MLE_estimates) - n\n",
    "\n",
    "# variance\n",
    "var_moments = np.var(moments_estimates)\n",
    "var_MLE = np.var(MLE_estimates)\n",
    "\n",
    "# mean squared error\n",
    "MSE_moments = (np.mean(moments_estimates) - n)**2\n",
    "MSE_MLE = (np.mean(MLE_estimates) - n)**2\n",
    "\n",
    "print('Method of moments:')\n",
    "print('Bias:', abs(bias_moments))\n",
    "print('Variance:', var_moments)\n",
    "print('Mean Squared Error:', MSE_moments)\n",
    "print('----------------------')\n",
    "print('Maximum Likelihood:')\n",
    "print('Bias:', abs(bias_MLE))\n",
    "print('Variance:', var_MLE)\n",
    "print('Mean Squared Error:', MSE_MLE)\n",
    "\n"
   ]
  },
  {
   "attachments": {},
   "cell_type": "markdown",
   "metadata": {},
   "source": [
    "№2"
   ]
  },
  {
   "attachments": {},
   "cell_type": "markdown",
   "metadata": {},
   "source": [
    "Пункты a и б"
   ]
  },
  {
   "attachments": {},
   "cell_type": "markdown",
   "metadata": {},
   "source": [
    "а) Пусть $k$ - количество разных имен среди 10 таксистов. Тогда вероятность того, что имя очередного таксиста будет новым, равна $(n-k)/n$. Вероятность того, что последовательность имен таксистов будет именно такой, как в рассматриваемой выборке (с учетом порядка), равна $(n-k)!/n^{10}$. Таким образом, функция правдоподобия:\n",
    "$$L(n)=\\frac{(n-k)!}{n^{10}}\\cdot \\left(\\frac{n-k}{n}\\right)^{10}$$\n",
    "Для максимизации этой функции найдем производную:\n",
    "$$L'(n)=\\frac{(n-k)!}{n^{11}}\\cdot(n-k)\\cdot n-10\\cdot(n-k)^2.$$\n",
    "Производная равна 0 при $n=k+10/2=5+k$. Так как $k\\leq 6$, то максимум функции правдоподобия достигается при $n=11$, т.е. оценка числа имён - 11.\n",
    "\n",
    "\n",
    "б) Пусть $X$ - количество разных имен среди 10 таксистов, а $pi$ - вероятность того, что конкретное имя встречается (т.е. равна $1/n$ всем $i$). Тогда математическое ожидание числа разных имен выражается формулой:\n",
    "$$\\mathbb{E}[X]=\\sum{i=1}^n \\mathbb{P}(\\text{имя i встречается хотя бы раз}).$$\n",
    "Вероятность $\\mathbb{P}(\\text{имя i встречается хотя бы раз})$ равна $1-\\mathbb{P}(\\text{имя i не встречается ни разу})=(1-1/n)^{10}$. Таким образом, математическое ожидание числа разных имен:\n",
    "$$\\mathbb{E}X=n\\left(1-\\left(1-\\frac{1}{n}\\right)^{10}\\right).$$\n",
    "Оценка числа имён методом моментов найдется из равенства:\n",
    "$$\\frac{1}{10}\\sum{i=1}^{10} Xi=\\mathbb{E}X,$$\n",
    "где $X1,\\ldots,X{10}$ - реализации случайной величины $X$. Подставляя выражение для математического ожидания, получаем:\n",
    "$$\\frac{1}{10}\\sum{i=1}^{10} Xi=n\\left(1-\\left(1-\\frac{1}{n}\\right)^{10}\\right).$$\n",
    "Решая это уравнение относительно $n$, получаем оценку числа имен: $n\\approx 7.64$."
   ]
  },
  {
   "attachments": {},
   "cell_type": "markdown",
   "metadata": {},
   "source": [
    "в) [15] Предположим, что настоящее n равно 20. Проведя 10000 симуляций десяти вызовов\n",
    "такси, рассчитайте 10000 оценок методом моментов и 10000 оценок методом максимального правдоподобия. Постройте гистограммы для оценок двух методов. Оцените смещение,\n",
    "дисперсию и среднеквадратичную ошибку двух методов."
   ]
  },
  {
   "cell_type": "code",
   "execution_count": 122,
   "metadata": {},
   "outputs": [
    {
     "data": {
      "image/png": "[encoded data removed]",
      "text/plain": [
       "<Figure size 1000x400 with 2 Axes>"
      ]
     },
     "metadata": {},
     "output_type": "display_data"
    },
    {
     "name": "stdout",
     "output_type": "stream",
     "text": [
      "Method of Moments:\n",
      "Bias: -15.4862\n",
      "Variance: 0.6884095600000001\n",
      "MSE: 240.5108\n",
      "Maximum Likelihood:\n",
      "Bias: -15.987400000000001\n",
      "Variance: 0.9964412399999999\n",
      "MSE: 256.59340000000003\n"
     ]
    }
   ],
   "source": [
    "import random\n",
    "import numpy as np\n",
    "import matplotlib.pyplot as plt\n",
    "\n",
    "# true parameter\n",
    "n = 20    \n",
    "\n",
    "# generate the true population\n",
    "population = [random.choice(['A', 'B', 'C', 'D', 'E', 'F']) for _ in range(n)]\n",
    "\n",
    "# method of moments estimation\n",
    "def mom_estimation(sample):\n",
    "    return len(set(sample))   \n",
    "\n",
    "# maximum likelihood estimation\n",
    "def mle_estimation(sample):\n",
    "    counts = dict.fromkeys(['A', 'B', 'C', 'D', 'E', 'F'], 0)\n",
    "    for name in sample:\n",
    "        counts[name] += 1\n",
    "    return max(counts.values())\n",
    "\n",
    "# simulate 10000 experiments\n",
    "n_experiments = 10000\n",
    "n_calls = 10\n",
    "mom_estimates = np.zeros(n_experiments)\n",
    "mle_estimates = np.zeros(n_experiments)\n",
    "for i in range(n_experiments):\n",
    "    # generate the sample\n",
    "    sample = [random.choice(population) for _ in range(n_calls)]\n",
    "    # calculate the estimates\n",
    "    mom_est = mom_estimation(sample)\n",
    "    mle_est = mle_estimation(sample)\n",
    "    # store the estimates\n",
    "    mom_estimates[i] = mom_est\n",
    "    mle_estimates[i] = mle_est\n",
    "\n",
    "# plot the histograms of the estimates\n",
    "fig, axs = plt.subplots(1, 2, figsize=(10, 4))\n",
    "axs[0].hist(mom_estimates, bins=range(1, 7))\n",
    "axs[0].set_title('Method of Moments')\n",
    "axs[0].set_xlabel('Number of unique names')\n",
    "axs[0].set_ylabel('Frequency')\n",
    "axs[1].hist(mle_estimates, bins=range(1, 7))\n",
    "axs[1].set_title('Maximum Likelihood')\n",
    "axs[1].set_xlabel('Number of most frequent name')\n",
    "axs[1].set_ylabel('Frequency')\n",
    "plt.show()\n",
    "\n",
    "# calculate the bias, variance, and mean squared error of the estimates\n",
    "mom_bias = np.mean(mom_estimates) - n\n",
    "mle_bias = np.mean(mle_estimates) - n\n",
    "mom_var = np.var(mom_estimates)\n",
    "mle_var = np.var(mle_estimates)\n",
    "mom_mse = mom_bias ** 2 + mom_var\n",
    "mle_mse = mle_bias ** 2 + mle_var\n",
    "\n",
    "print('Method of Moments:')\n",
    "print('Bias:', mom_bias)\n",
    "print('Variance:', mom_var)\n",
    "print('MSE:', mom_mse)\n",
    "\n",
    "print('Maximum Likelihood:')\n",
    "print('Bias:', mle_bias)\n",
    "print('Variance:', mle_var)\n",
    "print('MSE:', mle_mse)\n"
   ]
  },
  {
   "attachments": {},
   "cell_type": "markdown",
   "metadata": {},
   "source": [
    "№3"
   ]
  },
  {
   "attachments": {},
   "cell_type": "markdown",
   "metadata": {},
   "source": [
    "а)"
   ]
  },
  {
   "cell_type": "code",
   "execution_count": 123,
   "metadata": {},
   "outputs": [
    {
     "name": "stdout",
     "output_type": "stream",
     "text": [
      "Вероятность попадания в доверительный интервал для бутстрэпа t-статистики: 0.902\n"
     ]
    }
   ],
   "source": [
    "# функция для построения доверительного интервала на основе бутстрэпа t-статистики\n",
    "def conf_int_t_bootstrap(data, boot_reps=1000, alpha=0.05):\n",
    "    n = len(data)\n",
    "    boot_tstats = []\n",
    "    for rep in range(boot_reps):\n",
    "        boot_sample = np.random.choice(data, size=n, replace=True)\n",
    "        boot_mean = np.mean(boot_sample)\n",
    "        boot_std = np.std(boot_sample, ddof=1)\n",
    "        boot_se = boot_std / np.sqrt(n)\n",
    "        boot_tstat = (boot_mean - intensity) / boot_se\n",
    "        boot_tstats.append(boot_tstat)\n",
    "    left = intensity - np.percentile(boot_tstats, 100 * (1-alpha/2)) * np.std(data, ddof=1) / np.sqrt(n)\n",
    "    right = intensity - np.percentile(boot_tstats, 100 * alpha/2) * np.std(data, ddof=1) / np.sqrt(n)\n",
    "    return left, right\n",
    "\n",
    "# параметры\n",
    "n = 20\n",
    "alpha = 0.05\n",
    "intensity = 1\n",
    "reps = 10000\n",
    "\n",
    "# генерация выборок и оценка вероятности попадания в доверительный интервал\n",
    "np.random.seed(42)\n",
    "prob_cover = 0\n",
    "for rep in range(reps):\n",
    "    data = np.random.exponential(scale=1/intensity, size=n)\n",
    "    left, right = conf_int_t_bootstrap(data, alpha=alpha)\n",
    "    if left <= intensity <= right:\n",
    "        prob_cover += 1\n",
    "prob_cover /= reps\n",
    "print(\"Вероятность попадания в доверительный интервал для бутстрэпа t-статистики:\", prob_cover)\n"
   ]
  },
  {
   "attachments": {},
   "cell_type": "markdown",
   "metadata": {},
   "source": [
    "б)"
   ]
  },
  {
   "cell_type": "code",
   "execution_count": 142,
   "metadata": {},
   "outputs": [],
   "source": [
    "import numpy as np\n",
    "from scipy.stats import t\n",
    "import bootstrapped.bootstrap as bs\n",
    "import bootstrapped.stats_functions as bs_stats\n",
    "\n",
    "# исходные данные\n",
    "np.random.seed(42)\n",
    "n = 20\n",
    "data = np.random.normal(loc=15, scale=3.5, size=n)\n"
   ]
  },
  {
   "cell_type": "code",
   "execution_count": 143,
   "metadata": {},
   "outputs": [
    {
     "name": "stdout",
     "output_type": "stream",
     "text": [
      "Классический доверительный интервал: [12.83, 15.97]\n"
     ]
    }
   ],
   "source": [
    "# классический доверительный интервал\n",
    "alpha = 0.05\n",
    "mean = np.mean(data)\n",
    "std = np.std(data, ddof=1)\n",
    "n_sd = t.ppf(1 - alpha / 2, n - 1)\n",
    "ci = mean - n_sd * std / np.sqrt(n), mean + n_sd * std / np.sqrt(n)\n",
    "print(f\"Классический доверительный интервал: [{ci[0]:.2f}, {ci[1]:.2f}]\")\n"
   ]
  },
  {
   "cell_type": "code",
   "execution_count": 144,
   "metadata": {},
   "outputs": [
    {
     "name": "stdout",
     "output_type": "stream",
     "text": [
      "Асимптотический нормальный доверительный интервал: [12.83, 15.97]\n"
     ]
    }
   ],
   "source": [
    "# асимптотический нормальный доверительный интервал\n",
    "z_alpha = -t.ppf(alpha / 2, n - 1)\n",
    "z = (np.mean(data) - 15) / (np.std(data, ddof=1) / np.sqrt(n))\n",
    "ci_asympt = np.mean(data) - z_alpha * np.std(data, ddof=1) / np.sqrt(n), np.mean(data) + z_alpha * np.std(data, ddof=1) / np.sqrt(n)\n",
    "print(f\"Асимптотический нормальный доверительный интервал: [{ci_asympt[0]:.2f}, {ci_asympt[1]:.2f}]\")\n"
   ]
  },
  {
   "cell_type": "code",
   "execution_count": 145,
   "metadata": {},
   "outputs": [
    {
     "name": "stdout",
     "output_type": "stream",
     "text": [
      "Доверительный интервал с помощью наивного бутстрэпа: [14.20, 14.85]\n"
     ]
    }
   ],
   "source": [
    "# наивный бутстрэп\n",
    "resampled = np.random.choice(data, size=(n, n))\n",
    "means = np.mean(resampled, axis=1)\n",
    "ci_bs = bs.bootstrap(means, stat_func=bs_stats.mean, alpha=alpha, num_iterations=10000)\n",
    "print(f\"Доверительный интервал с помощью наивного бутстрэпа: [{ci_bs.lower_bound:.2f}, {ci_bs.upper_bound:.2f}]\")\n"
   ]
  },
  {
   "cell_type": "code",
   "execution_count": 146,
   "metadata": {},
   "outputs": [
    {
     "name": "stdout",
     "output_type": "stream",
     "text": [
      "Доверительный интервал с помощью бутстрэпа t-статистики: [14.39, 14.43]\n"
     ]
    }
   ],
   "source": [
    "# бутстрэп t-статистики\n",
    "resampled = np.random.choice(data, size=(n, n))\n",
    "means = np.mean(resampled, axis=1)\n",
    "t_values = (means - np.mean(data)) / np.std(data, ddof=1)\n",
    "ci_bs_t = bs.bootstrap(t_values, stat_func=bs_stats.mean, alpha=alpha, num_iterations=10000)\n",
    "se_bs_t = np.std(t_values, ddof=1)\n",
    "ci_bs_t_corrected = np.mean(data) - ci_bs_t.upper_bound * se_bs_t, np.mean(data) - ci_bs_t.lower_bound * se_bs_t\n",
    "print(f\"Доверительный интервал с помощью бутстрэпа t-статистики: [{ci_bs_t_corrected[0]:.2f}, {ci_bs_t_corrected[1]:.2f}]\")\n"
   ]
  },
  {
   "cell_type": "code",
   "execution_count": 147,
   "metadata": {},
   "outputs": [
    {
     "name": "stdout",
     "output_type": "stream",
     "text": [
      "Доверительный интервал с помощью бутстрэпа t-статистики: [14.38, 14.42]\n"
     ]
    }
   ],
   "source": [
    "# бутстрэп t-статистики\n",
    "resampled = np.random.choice(data, size=(n, n))\n",
    "means = np.mean(resampled, axis=1)\n",
    "t_values = (means - np.mean(data)) / np.std(data, ddof=1)\n",
    "ci_bs_t = bs.bootstrap(t_values, stat_func=bs_stats.mean, alpha=alpha, num_iterations=10000)\n",
    "se_bs_t = np.std(t_values, ddof=1)\n",
    "ci_bs_t_corrected = np.mean(data) - ci_bs_t.upper_bound * se_bs_t, np.mean(data) - ci_bs_t.lower_bound * se_bs_t\n",
    "print(f\"Доверительный интервал с помощью бутстрэпа t-статистики: [{ci_bs_t_corrected[0]:.2f}, {ci_bs_t_corrected[1]:.2f}]\")\n"
   ]
  },
  {
   "cell_type": "code",
   "execution_count": 149,
   "metadata": {},
   "outputs": [
    {
     "name": "stdout",
     "output_type": "stream",
     "text": [
      "Вероятность накрытия классического доверительного интервала: 0.9367\n",
      "Вероятность накрытия асимптотического нормального доверительного интервала: 0.9367\n",
      "Вероятность накрытия доверительного интервала с помощью наивного бутстрэпа: 0.2859\n",
      "Вероятность накрытия доверительного интервала с помощью бутстрэпа t-статистики: 0.0164\n"
     ]
    }
   ],
   "source": [
    "def coverage_probability(ci, mu):\n",
    "    alpha = 0.05\n",
    "    n = 20\n",
    "    df = n - 1\n",
    "    t_alpha2 = t.ppf(1 - alpha / 2, df)\n",
    "    t_mu = (mu - np.mean(data)) / (np.std(data, ddof=1) / np.sqrt(n))\n",
    "    t_l, t_u = (ci[0] - mu) / (np.std(data, ddof=1) / np.sqrt(n)), (ci[1] - mu) / (np.std(data, ddof=1) / np.sqrt(n))\n",
    "    p = (t.cdf(t_u, df) - t.cdf(t_l, df)) / (1 - alpha)\n",
    "    return p\n",
    "\n",
    "# классический доверительный интервал\n",
    "p_classic = coverage_probability(ci, 15)\n",
    "print(f\"Вероятность накрытия классического доверительного интервала: {p_classic:.4f}\")\n",
    "\n",
    "# асимптотический нормальный доверительный интервал\n",
    "p_asympt = coverage_probability(ci_asympt, 15)\n",
    "print(f\"Вероятность накрытия асимптотического нормального доверительного интервала: {p_asympt:.4f}\")\n",
    "\n",
    "# наивный бутстрэп\n",
    "p_bs = coverage_probability([ci_bs.lower_bound, ci_bs.upper_bound], 15)\n",
    "print(f\"Вероятность накрытия доверительного интервала с помощью наивного бутстрэпа: {p_bs:.4f}\")\n",
    "\n",
    "# бутстрэп t-статистики\n",
    "p_bs_t = coverage_probability(ci_bs_t_corrected, 15)\n",
    "print(f\"Вероятность накрытия доверительного интервала с помощью бутстрэпа t-статистики: {p_bs_t:.4f}\")\n"
   ]
  },
  {
   "attachments": {},
   "cell_type": "markdown",
   "metadata": {},
   "source": [
    "Самый лучший интервал: с помощью асимптотического нормального доверительного интервала"
   ]
  },
  {
   "attachments": {},
   "cell_type": "markdown",
   "metadata": {},
   "source": [
    "№6"
   ]
  },
  {
   "attachments": {},
   "cell_type": "markdown",
   "metadata": {},
   "source": [
    "а)"
   ]
  },
  {
   "cell_type": "code",
   "execution_count": 165,
   "metadata": {},
   "outputs": [
    {
     "data": {
      "text/html": [
       "<div>\n",
       "<style scoped>\n",
       "    .dataframe tbody tr th:only-of-type {\n",
       "        vertical-align: middle;\n",
       "    }\n",
       "\n",
       "    .dataframe tbody tr th {\n",
       "        vertical-align: top;\n",
       "    }\n",
       "\n",
       "    .dataframe thead th {\n",
       "        text-align: right;\n",
       "    }\n",
       "</style>\n",
       "<table border=\"1\" class=\"dataframe\">\n",
       "  <thead>\n",
       "    <tr style=\"text-align: right;\">\n",
       "      <th></th>\n",
       "      <th>Экзамен</th>\n",
       "      <th>Last name</th>\n",
       "    </tr>\n",
       "  </thead>\n",
       "  <tbody>\n",
       "    <tr>\n",
       "      <th>0</th>\n",
       "      <td>4.0</td>\n",
       "      <td>Репенкова</td>\n",
       "    </tr>\n",
       "    <tr>\n",
       "      <th>1</th>\n",
       "      <td>0.0</td>\n",
       "      <td>Ролдугина</td>\n",
       "    </tr>\n",
       "    <tr>\n",
       "      <th>2</th>\n",
       "      <td>5.0</td>\n",
       "      <td>Сафина</td>\n",
       "    </tr>\n",
       "    <tr>\n",
       "      <th>3</th>\n",
       "      <td>9.0</td>\n",
       "      <td>Сидоров</td>\n",
       "    </tr>\n",
       "    <tr>\n",
       "      <th>4</th>\n",
       "      <td>6.0</td>\n",
       "      <td>Солоухин</td>\n",
       "    </tr>\n",
       "    <tr>\n",
       "      <th>...</th>\n",
       "      <td>...</td>\n",
       "      <td>...</td>\n",
       "    </tr>\n",
       "    <tr>\n",
       "      <th>332</th>\n",
       "      <td>0.0</td>\n",
       "      <td>Наугольнова</td>\n",
       "    </tr>\n",
       "    <tr>\n",
       "      <th>333</th>\n",
       "      <td>0.0</td>\n",
       "      <td>Хафизов</td>\n",
       "    </tr>\n",
       "    <tr>\n",
       "      <th>334</th>\n",
       "      <td>0.0</td>\n",
       "      <td>Герасимов</td>\n",
       "    </tr>\n",
       "    <tr>\n",
       "      <th>335</th>\n",
       "      <td>0.0</td>\n",
       "      <td>Тайирбек уулу</td>\n",
       "    </tr>\n",
       "    <tr>\n",
       "      <th>336</th>\n",
       "      <td>0.0</td>\n",
       "      <td>Ханапияев</td>\n",
       "    </tr>\n",
       "  </tbody>\n",
       "</table>\n",
       "<p>337 rows × 2 columns</p>\n",
       "</div>"
      ],
      "text/plain": [
       "     Экзамен       Last name\n",
       "0        4.0       Репенкова\n",
       "1        0.0       Ролдугина\n",
       "2        5.0          Сафина\n",
       "3        9.0         Сидоров\n",
       "4        6.0        Солоухин\n",
       "..       ...             ...\n",
       "332      0.0     Наугольнова\n",
       "333      0.0         Хафизов\n",
       "334      0.0       Герасимов\n",
       "335      0.0  Тайирбек уулу \n",
       "336      0.0       Ханапияев\n",
       "\n",
       "[337 rows x 2 columns]"
      ]
     },
     "execution_count": 165,
     "metadata": {},
     "output_type": "execute_result"
    }
   ],
   "source": [
    "df = pd.read_csv(r\"C:\\Users\\Мой ПК\\Dropbox\\Мой ПК (LAPTOP-TOID7NG7)\\Downloads\\22-23_hse_probability.csv\", sep = \",\")\n",
    "df = df[['Экзамен', 'Last name']]\n",
    "df.fillna(0, inplace=True)\n",
    "df"
   ]
  },
  {
   "cell_type": "code",
   "execution_count": 167,
   "metadata": {},
   "outputs": [
    {
     "data": {
      "text/html": [
       "<div>\n",
       "<style scoped>\n",
       "    .dataframe tbody tr th:only-of-type {\n",
       "        vertical-align: middle;\n",
       "    }\n",
       "\n",
       "    .dataframe tbody tr th {\n",
       "        vertical-align: top;\n",
       "    }\n",
       "\n",
       "    .dataframe thead th {\n",
       "        text-align: right;\n",
       "    }\n",
       "</style>\n",
       "<table border=\"1\" class=\"dataframe\">\n",
       "  <thead>\n",
       "    <tr style=\"text-align: right;\">\n",
       "      <th></th>\n",
       "      <th>Экзамен</th>\n",
       "      <th>Last name</th>\n",
       "    </tr>\n",
       "  </thead>\n",
       "  <tbody>\n",
       "    <tr>\n",
       "      <th>0</th>\n",
       "      <td>4.0</td>\n",
       "      <td>9</td>\n",
       "    </tr>\n",
       "    <tr>\n",
       "      <th>1</th>\n",
       "      <td>0.0</td>\n",
       "      <td>9</td>\n",
       "    </tr>\n",
       "    <tr>\n",
       "      <th>2</th>\n",
       "      <td>5.0</td>\n",
       "      <td>6</td>\n",
       "    </tr>\n",
       "    <tr>\n",
       "      <th>3</th>\n",
       "      <td>9.0</td>\n",
       "      <td>7</td>\n",
       "    </tr>\n",
       "    <tr>\n",
       "      <th>4</th>\n",
       "      <td>6.0</td>\n",
       "      <td>8</td>\n",
       "    </tr>\n",
       "    <tr>\n",
       "      <th>...</th>\n",
       "      <td>...</td>\n",
       "      <td>...</td>\n",
       "    </tr>\n",
       "    <tr>\n",
       "      <th>332</th>\n",
       "      <td>0.0</td>\n",
       "      <td>11</td>\n",
       "    </tr>\n",
       "    <tr>\n",
       "      <th>333</th>\n",
       "      <td>0.0</td>\n",
       "      <td>7</td>\n",
       "    </tr>\n",
       "    <tr>\n",
       "      <th>334</th>\n",
       "      <td>0.0</td>\n",
       "      <td>9</td>\n",
       "    </tr>\n",
       "    <tr>\n",
       "      <th>335</th>\n",
       "      <td>0.0</td>\n",
       "      <td>14</td>\n",
       "    </tr>\n",
       "    <tr>\n",
       "      <th>336</th>\n",
       "      <td>0.0</td>\n",
       "      <td>9</td>\n",
       "    </tr>\n",
       "  </tbody>\n",
       "</table>\n",
       "<p>337 rows × 2 columns</p>\n",
       "</div>"
      ],
      "text/plain": [
       "     Экзамен  Last name\n",
       "0        4.0          9\n",
       "1        0.0          9\n",
       "2        5.0          6\n",
       "3        9.0          7\n",
       "4        6.0          8\n",
       "..       ...        ...\n",
       "332      0.0         11\n",
       "333      0.0          7\n",
       "334      0.0          9\n",
       "335      0.0         14\n",
       "336      0.0          9\n",
       "\n",
       "[337 rows x 2 columns]"
      ]
     },
     "execution_count": 167,
     "metadata": {},
     "output_type": "execute_result"
    }
   ],
   "source": [
    "# импортируем библиотеку pandas для работы с данными в таблицах\n",
    "import pandas as pd\n",
    "\n",
    "dff = df.copy()\n",
    "# считаем количество букв в каждой фамилии\n",
    "dff['Last name'] = df['Last name'].apply(len)\n",
    "\n",
    "dff"
   ]
  },
  {
   "cell_type": "code",
   "execution_count": 170,
   "metadata": {},
   "outputs": [
    {
     "name": "stdout",
     "output_type": "stream",
     "text": [
      "7.893175074183977 4.830860534124629\n"
     ]
    }
   ],
   "source": [
    "EF = dff['Last name'].sum() / 337\n",
    "EY = dff['Экзамен'].sum() / 337\n",
    "print(EF, EY)"
   ]
  },
  {
   "attachments": {},
   "cell_type": "markdown",
   "metadata": {},
   "source": [
    "β = E(Y)/E(F)"
   ]
  },
  {
   "cell_type": "code",
   "execution_count": 172,
   "metadata": {},
   "outputs": [
    {
     "data": {
      "text/plain": [
       "0.6120300751879699"
      ]
     },
     "execution_count": 172,
     "metadata": {},
     "output_type": "execute_result"
    }
   ],
   "source": [
    "b = EY/EF\n",
    "b"
   ]
  },
  {
   "attachments": {},
   "cell_type": "markdown",
   "metadata": {},
   "source": [
    "cov(Yi, Fi) = Σ[(Yi - EY)(Fi - EF)]"
   ]
  },
  {
   "cell_type": "code",
   "execution_count": 174,
   "metadata": {},
   "outputs": [
    {
     "data": {
      "text/plain": [
       "-1.089020771513347"
      ]
     },
     "execution_count": 174,
     "metadata": {},
     "output_type": "execute_result"
    }
   ],
   "source": [
    "dff['cov'] = (dff['Экзамен'] - EY) * (dff['Last name'] - EF)\n",
    "sum_cov = dff['cov'].sum()\n",
    "sum_cov"
   ]
  },
  {
   "attachments": {},
   "cell_type": "markdown",
   "metadata": {},
   "source": [
    "s_Y^2 = Σ(Yi - EY)^2/(n-1)\n",
    "\n",
    "s_F^2 = Σ(Fi - EF)^2/(n-1)"
   ]
  },
  {
   "cell_type": "code",
   "execution_count": 176,
   "metadata": {},
   "outputs": [
    {
     "name": "stdout",
     "output_type": "stream",
     "text": [
      "7.259997173943762 3.3337925674720927\n"
     ]
    }
   ],
   "source": [
    "dff['s_Y^2'] = (dff['Экзамен'] - EY) ** 2\n",
    "\n",
    "dff['s_F^2'] = (dff['Last name'] - EF) ** 2\n",
    "\n",
    "s_Y = dff['s_Y^2'].sum() / 336\n",
    "s_F = dff['s_F^2'].sum() / 336\n",
    "\n",
    "print(s_Y, s_F)"
   ]
  },
  {
   "attachments": {},
   "cell_type": "markdown",
   "metadata": {},
   "source": [
    "r = cov(Yi, Fi)/(s_Y * s_F)"
   ]
  },
  {
   "cell_type": "code",
   "execution_count": 177,
   "metadata": {},
   "outputs": [
    {
     "data": {
      "text/plain": [
       "-0.04499467691670548"
      ]
     },
     "execution_count": 177,
     "metadata": {},
     "output_type": "execute_result"
    }
   ],
   "source": [
    "r = sum_cov / (s_Y * s_F)\n",
    "r"
   ]
  },
  {
   "attachments": {},
   "cell_type": "markdown",
   "metadata": {},
   "source": [
    "б)"
   ]
  },
  {
   "cell_type": "code",
   "execution_count": 182,
   "metadata": {},
   "outputs": [
    {
     "name": "stdout",
     "output_type": "stream",
     "text": [
      "Fact correlation: -0.000658808772029396\n",
      "P-value: 0.5058\n",
      "Не могу отвергнуть нулевую гипотезу: здесь нету корреляции\n"
     ]
    }
   ],
   "source": [
    "from scipy.stats import pearsonr\n",
    "\n",
    "a = dff[\"Экзамен\"].to_list()\n",
    "b = dff[\"Last name\"].to_list()\n",
    "# вычисление фактической корреляции\n",
    "corr, f = pearsonr(a, b)\n",
    "\n",
    "# создание массива для сохранения корреляций при перестановках\n",
    "perms = np.zeros(10000)\n",
    "\n",
    "# выполнение перестановочного теста\n",
    "for i in range(10000):\n",
    "    # случайная перестановка длин фамилий\n",
    "    permuted_lengths = np.random.permutation(b)\n",
    "    # вычисление корреляции для переставленных длин фамилий\n",
    "    permuted_corr, _ = pearsonr(a, permuted_lengths)\n",
    "    # сохранение корреляции\n",
    "    perms[i] = permuted_corr\n",
    "\n",
    "# вычисление P-значения\n",
    "p_value = np.sum(perms >= corr) / len(perms)\n",
    "\n",
    "# вывод результатов\n",
    "print(\"Fact correlation:\", corr)\n",
    "print(\"P-value:\", p_value)\n",
    "if p_value < 0.05:\n",
    "    print(\"Отвержение нулевой гипотезы: здесь есть корреляция\")\n",
    "else:\n",
    "    print(\"Не могу отвергнуть нулевую гипотезу: здесь нету корреляции\")"
   ]
  },
  {
   "attachments": {},
   "cell_type": "markdown",
   "metadata": {},
   "source": [
    "№7"
   ]
  },
  {
   "attachments": {},
   "cell_type": "markdown",
   "metadata": {},
   "source": [
    "Условие задачи:\n",
    "\n",
    "В первой урне 7 белых и 3 черных шара, во второй урне 8 белых и 4 черных шара, в третьей урне 2 белых\n",
    "и 13 черных шаров.\n",
    "Из этих урн наугад выбирается одна урна.\n",
    "а) Вычислите вероятность того, что шар, взятый наугад из выбранной урны, окажется белым.\n",
    "б) Посчитайте вероятность того, что была выбрана первая урна, если шар, взятый наугад из\n",
    "выбранной урны, оказался белым.\n"
   ]
  },
  {
   "attachments": {},
   "cell_type": "markdown",
   "metadata": {},
   "source": [
    "Решение гпт-4 чата:\n",
    "\n",
    "а) Обозначим событие выбора первой, второй и третьей урны соответственно через А, В и С. Тогда общая вероятность каждого события равна 1/3, так как у нас есть 3 урны, из которых нужно выбрать одну. \n",
    "\n",
    "Вероятность того, что белый шар будет выбран из первой урны:\n",
    "\n",
    "P(белый шар из 1 урны) = 7/10\n",
    "\n",
    "Вероятность того, что белый шар будет выбран из второй урны:\n",
    "\n",
    "P(белый шар из 2 урны) = 8/12 = 2/3\n",
    "\n",
    "Вероятность того, что белый шар будет выбран из третьей урны:\n",
    "\n",
    "P(белый шар из 3 урны) = 2/15\n",
    "\n",
    "Тогда общая вероятность выбора белого шара:\n",
    "\n",
    "P(белый шар) = P(A)*P(белый шар из 1 урны) + P(B)*P(белый шар из 2 урны) + P(C)*P(белый шар из 3 урны) = (1/3)*(7/10) + (1/3)*(2/3) + (1/3)*(2/15) = 0.5 = 50%\n",
    "\n",
    "б) Определим вероятность выбора первой урны при условии, что был выбран белый шар:\n",
    "\n",
    "Событие A – выбор первой урны. Событие B – выбран белый шар.\n",
    "\n",
    "Общая вероятность выбора белого шара:\n",
    "\n",
    "P(B) = P(A)*P(белый шар из 1 урны) + P(B)*P(белый шар из 2 урны) + P(C)*P(белый шар из 3 урны) = (1/3)*(7/10) + (1/3)*(2/3) + (1/3)*(2/15) = 0.5 = 50%\n",
    "\n",
    "Вероятность выбора первой урны при условии наступления события B:\n",
    "\n",
    "P(A|B) = P(A∩B) / P(B)\n",
    "\n",
    "P(A∩B) – вероятность того, что выбрана первая урна и шар из нее оказался белым. \n",
    "\n",
    "Из вероятности условия B известно, что был выбран белый шар. Значит, интересующие нас события – это выбор первой урны и выбор белого шара из нее. \n",
    "\n",
    "P(A∩B) = P(белый шар из 1 урны) * P(A) = (7/10)*(1/3) = 7/30\n",
    "\n",
    "P(B) известна и равна 0.5.\n",
    "\n",
    "Тогда искомая вероятность:\n",
    "\n",
    "P(A|B) = (7/30) / 0.5 = 0.4667 = 46.67% \n",
    "\n",
    "Таким образом, вероятность того, что была выбрана первая урна, если шар, взятый наугад из выбранной урны, оказался белым, составляет 46.67%."
   ]
  },
  {
   "attachments": {},
   "cell_type": "markdown",
   "metadata": {},
   "source": [
    "<a href=\"https://ibb.co/58yM9Zb\"><img src=\"https://i.ibb.co/4TGmfkh/2023-06-11-00-33-49.png\" alt=\"2023-06-11-00-33-49\" border=\"0\"></a>"
   ]
  },
  {
   "attachments": {},
   "cell_type": "markdown",
   "metadata": {},
   "source": [
    "№8"
   ]
  },
  {
   "attachments": {},
   "cell_type": "markdown",
   "metadata": {},
   "source": [
    "Чаще всего я не мог находиться на лекциях, поэтому в дополнение к просмотру семинаров, я смотрел в записях видео прошлых лет на канале https://www.youtube.com/@mathmeth1906 . Где видео снимал Пильник Николай Петрович. Я также пользовался материалами, которые предоставляли преподаватели по анализу данных по информатике для понимания того, как применить пройденный материал в сфере программирования (https://github.com/hse-econ-data-science/andan_2023).\n",
    "\n",
    "Иногда смотрел некоторые пояснения в открытом учебном пособии \"Математическая статистика\", написанным Н.И.Черновой (https://tvims.nsu.ru/chernova/ms/ms_nsu07.pdf).\n",
    "\n",
    "И наконец, игрался с визуализированными данными на примере простых задач через сайт (https://seeing-theory.brown.edu/). Это было полезно, так как, например, я понял, как по графику определить корреляцию и её силу (помогло во время прорешивания МСР по майнору \"математико-статистический анализ\")"
   ]
  }
 ],
 "metadata": {
  "kernelspec": {
   "display_name": "Python 3",
   "language": "python",
   "name": "python3"
  },
  "language_info": {
   "codemirror_mode": {
    "name": "ipython",
    "version": 3
   },
   "file_extension": ".py",
   "mimetype": "text/x-python",
   "name": "python",
   "nbconvert_exporter": "python",
   "pygments_lexer": "ipython3",
   "version": "3.10.11"
  },
  "orig_nbformat": 4
 },
 "nbformat": 4,
 "nbformat_minor": 2
}
